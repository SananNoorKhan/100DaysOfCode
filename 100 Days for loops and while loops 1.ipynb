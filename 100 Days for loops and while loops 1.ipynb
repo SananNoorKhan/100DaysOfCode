{
 "cells": [
  {
   "cell_type": "markdown",
   "id": "3cf9226d",
   "metadata": {},
   "source": [
    "# For loops and While loops 1"
   ]
  },
  {
   "cell_type": "markdown",
   "id": "389ebe2a",
   "metadata": {},
   "source": [
    "1) Write a Python program that prints the first 15 positive integers (starting from 1).\n",
    "\n",
    "Print the numbers one per line using a loop and the range() function."
   ]
  },
  {
   "cell_type": "code",
   "execution_count": 5,
   "id": "cd8d954f",
   "metadata": {},
   "outputs": [
    {
     "name": "stdout",
     "output_type": "stream",
     "text": [
      "1\n",
      "2\n",
      "3\n",
      "4\n",
      "5\n",
      "6\n",
      "7\n",
      "8\n",
      "9\n",
      "10\n",
      "11\n",
      "12\n",
      "13\n",
      "14\n",
      "15\n"
     ]
    }
   ],
   "source": [
    "for i in range(1,16):\n",
    "    print(i)"
   ]
  },
  {
   "cell_type": "markdown",
   "id": "1ea2a9ba",
   "metadata": {},
   "source": [
    "2) Write a Python program that prints the integers between a given number n and 1 (in descending order, both inclusive).\n",
    "\n",
    "The value of n should be entered by the user and you may assume that it is an integer greater than or equal to 1.\n",
    "\n",
    "Use a loop to print each number on a separate line."
   ]
  },
  {
   "cell_type": "code",
   "execution_count": 19,
   "id": "4dac58b1",
   "metadata": {},
   "outputs": [
    {
     "name": "stdout",
     "output_type": "stream",
     "text": [
      "n = 20\n",
      "20\n",
      "19\n",
      "18\n",
      "17\n",
      "16\n",
      "15\n",
      "14\n",
      "13\n",
      "12\n",
      "11\n",
      "10\n",
      "9\n",
      "8\n",
      "7\n",
      "6\n",
      "5\n",
      "4\n",
      "3\n",
      "2\n",
      "1\n"
     ]
    }
   ],
   "source": [
    "n = int(input(\"n = \"))\n",
    "for i in range(n,0,-1):\n",
    "    print(i)"
   ]
  },
  {
   "cell_type": "markdown",
   "id": "a09f6469",
   "metadata": {},
   "source": [
    "3)Write a Python program that calculates and prints the sum of the first 100 non-negative integers (from 1 to 100).\n",
    "\n",
    "Use a loop to find this sum."
   ]
  },
  {
   "cell_type": "code",
   "execution_count": 20,
   "id": "2f45ce75",
   "metadata": {},
   "outputs": [
    {
     "name": "stdout",
     "output_type": "stream",
     "text": [
      "5050\n"
     ]
    }
   ],
   "source": [
    "first_hundred= 0\n",
    "\n",
    "for i in range(0,101):\n",
    "    first_hundred += i\n",
    "\n",
    "print(first_hundred)    "
   ]
  },
  {
   "cell_type": "markdown",
   "id": "29913f51",
   "metadata": {},
   "source": [
    "4) Write a Python program that prints the multiplication table for a positive integer n.\n",
    "\n",
    "The values displayed should go from n x 1 up to n x 10 with a descriptive format (as shown below).\n",
    "\n",
    "Use a loop to implement your solution."
   ]
  },
  {
   "cell_type": "code",
   "execution_count": 40,
   "id": "12ae86be",
   "metadata": {},
   "outputs": [
    {
     "name": "stdout",
     "output_type": "stream",
     "text": [
      "Select the number for the multiplication table: 10\n",
      "==== Multiplication Table of 10 ====\n",
      "10 x 1   10\n",
      "10 x 2   20\n",
      "10 x 3   30\n",
      "10 x 4   40\n",
      "10 x 5   50\n",
      "10 x 6   60\n",
      "10 x 7   70\n",
      "10 x 8   80\n",
      "10 x 9   90\n",
      "10 x 10   100\n"
     ]
    }
   ],
   "source": [
    "n = int(input(\"Select the number for the multiplication table: \"))\n",
    "print(f'==== Multiplication Table of {n} ====')   \n",
    "\n",
    "tab=1\n",
    "for i in range(1,11):\n",
    "    print(n,\"x\", i, \" \",i * n)\n",
    "    tab += 1\n"
   ]
  },
  {
   "cell_type": "markdown",
   "id": "1d505c9d",
   "metadata": {},
   "source": [
    "5) Write a Python program that prints all the letters in the alphabet using a loop (one letter per line).\n",
    "\n",
    "The program should print the letters in uppercase."
   ]
  },
  {
   "cell_type": "code",
   "execution_count": 46,
   "id": "deccf974",
   "metadata": {},
   "outputs": [
    {
     "name": "stdout",
     "output_type": "stream",
     "text": [
      "---List of Alphabets---\n",
      "A\n",
      "B\n",
      "C\n",
      "D\n",
      "E\n",
      "F\n",
      "G\n",
      "H\n",
      "I\n",
      "J\n",
      "K\n",
      "L\n",
      "M\n",
      "N\n",
      "O\n",
      "P\n",
      "Q\n",
      "R\n",
      "S\n",
      "T\n",
      "U\n",
      "V\n",
      "W\n",
      "X\n",
      "Y\n",
      "Z\n"
     ]
    }
   ],
   "source": [
    "import string\n",
    "\n",
    "print(\"---List of Alphabets---\")\n",
    "alphabets =list(string.ascii_uppercase)\n",
    "for alphabet in alphabets:\n",
    "    print(alphabet)"
   ]
  },
  {
   "cell_type": "markdown",
   "id": "955229aa",
   "metadata": {},
   "source": [
    "6) Write a Python program that prints the first 100 even numbers (from 2 to 200 inclusive).\n",
    "\n"
   ]
  },
  {
   "cell_type": "code",
   "execution_count": null,
   "id": "ff77d226",
   "metadata": {},
   "outputs": [],
   "source": [
    "even_hundred = range(0,202,2)\n",
    "for even in even_hundred:\n",
    "    print(even)"
   ]
  },
  {
   "cell_type": "markdown",
   "id": "1d26435d",
   "metadata": {},
   "source": [
    "7) Write a Python program that calculates the factorial of a given number n.\n",
    "\n",
    "The value of n should be entered by the user.\n",
    "\n",
    "The program must print the result and use a loop to calculate it.\n",
    "\n",
    "The factorial of a number n is denoted as n! and it is the result of multiplying all the positive integers that are less than or equal to n.\n",
    "\n",
    "For example, 3! = 3 * 2 * 1.\n",
    "\n",
    "0! is equal to 1."
   ]
  },
  {
   "cell_type": "code",
   "execution_count": 80,
   "id": "c2f06b5f",
   "metadata": {},
   "outputs": [
    {
     "name": "stdout",
     "output_type": "stream",
     "text": [
      "Enter Number: 10\n",
      "Factorial of 10\n",
      "3628800\n"
     ]
    }
   ],
   "source": [
    "n = int(input(\"Enter Number: \"))\n",
    "print(f'Factorial of {n}')\n",
    "\n",
    "nums=n\n",
    "facto=0\n",
    "for i in range(n-1,0,-1):\n",
    "        nums*= i\n",
    "print(nums)        \n",
    "\n",
    "   "
   ]
  }
 ],
 "metadata": {
  "kernelspec": {
   "display_name": "Python 3 (ipykernel)",
   "language": "python",
   "name": "python3"
  },
  "language_info": {
   "codemirror_mode": {
    "name": "ipython",
    "version": 3
   },
   "file_extension": ".py",
   "mimetype": "text/x-python",
   "name": "python",
   "nbconvert_exporter": "python",
   "pygments_lexer": "ipython3",
   "version": "3.9.12"
  }
 },
 "nbformat": 4,
 "nbformat_minor": 5
}
