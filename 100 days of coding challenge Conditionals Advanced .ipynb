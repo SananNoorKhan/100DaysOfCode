{
 "cells": [
  {
   "cell_type": "markdown",
   "id": "bb37fc14",
   "metadata": {},
   "source": [
    "# Advanced Conditionals"
   ]
  },
  {
   "cell_type": "markdown",
   "id": "66e926cc",
   "metadata": {},
   "source": [
    "1) Write a Python program that prints the number of days in a given month.\n",
    "\n",
    "The value of the variable month is the name of the month with the first letter capitalized.\n",
    "\n",
    "Do not consider leap years for the number of days in February.\n",
    "\n",
    "You can add a customized message. For example: \"<month> has: <num_days> days.\""
   ]
  },
  {
   "cell_type": "code",
   "execution_count": 2,
   "id": "01718409",
   "metadata": {},
   "outputs": [
    {
     "name": "stdout",
     "output_type": "stream",
     "text": [
      "Enter the first 3 letters of the month Feb\n",
      "28 days\n"
     ]
    }
   ],
   "source": [
    "months= {'Jan' : 31,\"Feb\":28,\"Mar\":31,\"April\":30,\"May\":31,\"June\":30,\"July\":31}\n",
    "selection = input(\"Enter the first 3 letters of the month \")\n",
    "\n",
    "print(f'{months[selection]} days')\n"
   ]
  },
  {
   "cell_type": "markdown",
   "id": "08d5baa2",
   "metadata": {},
   "source": [
    "2) Write a Python program that determines if three numbers (a, b, and c) are in increasing order, decreasing order, or none.\n",
    "\n",
    "If a > b > c, print \"Decreasing Order\".\n",
    "\n",
    "If a < b < c, print \"Increasing Order\".\n",
    "\n",
    "Else, print \"None\". "
   ]
  },
  {
   "cell_type": "code",
   "execution_count": 4,
   "id": "0e3e5ed9",
   "metadata": {},
   "outputs": [
    {
     "name": "stdout",
     "output_type": "stream",
     "text": [
      "a 1\n",
      "b 2\n",
      "c 3\n",
      "increasing order\n"
     ]
    }
   ],
   "source": [
    "a=int(input(\"a \"))\n",
    "b=int(input(\"b \"))\n",
    "c=int(input(\"c \"))\n",
    "\n",
    "if a>b>c:\n",
    "    print(\"decreasing order\")\n",
    "elif a<b<c:\n",
    "    print(\"increasing order\")\n",
    "else:\n",
    "    print(\"none\")"
   ]
  },
  {
   "cell_type": "markdown",
   "id": "853c8691",
   "metadata": {},
   "source": [
    "3) Write a Python program that prints the positive and negative solutions (roots) for a quadratic equation.\n",
    "\n",
    "If the equation only has one solution, print the solution as the output.\n",
    "\n",
    "If it has two solutions, print the negative one first and the positive one second on the same line.\n",
    "\n",
    "If the equation has no real solutions, print \"Complex Roots\".\n",
    "\n",
    "You can determine the number of solutions with the discriminant (the result of b^2 - 4ac in the formula below).\n",
    "\n",
    "- If it's negative, the equation has no real solutions (only complex roots).\n",
    "\n",
    "- If it's 0, there is only one solution.\n",
    "\n",
    "- If it's positive, there are two real solutions."
   ]
  },
  {
   "cell_type": "code",
   "execution_count": 5,
   "id": "1c9ad9b9",
   "metadata": {},
   "outputs": [
    {
     "name": "stdout",
     "output_type": "stream",
     "text": [
      "a 3\n",
      "b 6\n",
      "c -8\n",
      "R1 :-2.914854215512676, R2 : 0.9148542155126762\n"
     ]
    }
   ],
   "source": [
    "import math\n",
    "\n",
    "a=int(input(\"a \"))\n",
    "b=int(input(\"b \"))\n",
    "c=int(input(\"c \"))\n",
    "\n",
    "discriminant = (b**2) - (4*a*c)\n",
    "\n",
    "if discriminant <0:\n",
    "    print(\"Complex roots\")\n",
    "elif discriminant == 0:\n",
    "    r = -b/(2*a)\n",
    "    print(r)\n",
    "else:\n",
    "    r1= (-b - math.sqrt(discriminant))/(2*a)\n",
    "    r2= (-b + math.sqrt(discriminant))/(2*a)\n",
    "    print(f'R1 :{r1}, R2 : {r2}')"
   ]
  },
  {
   "cell_type": "markdown",
   "id": "d25d2444",
   "metadata": {},
   "source": [
    "4) Write a Python program that prints if a given year was (or will) be a leap year.\n",
    "\n",
    "Tip: A leap year is \"a year, occurring once every four years, that has 366 days including February 29 as an intercalary day.\" (Definition by Oxford Languages).\n",
    "\n",
    "This is how you can determine if a year is a leap year or not:\n",
    "\n",
    "if (year is not divisible by 4) then (it is a common year).\n",
    "\n",
    "else if (year is not divisible by 100) then (it is a leap year)\n",
    "\n",
    "else if (year is not divisible by 400) then (it is a common year)\n",
    "\n",
    "else (it is a leap year)"
   ]
  },
  {
   "cell_type": "code",
   "execution_count": 6,
   "id": "f818bd1e",
   "metadata": {},
   "outputs": [
    {
     "name": "stdout",
     "output_type": "stream",
     "text": [
      "Year : 2004\n",
      "Leap Year\n"
     ]
    }
   ],
   "source": [
    "year=int(input(\"Year : \"))\n",
    "\n",
    "if year % 4 !=0:\n",
    "    print(\"Common Year\")\n",
    "elif year % 100 !=0:\n",
    "    print(\"Leap Year\")\n",
    "elif year % 400 !=0:\n",
    "    print(\"Common Year\")\n",
    "else:\n",
    "    print(\"Leap Year\")"
   ]
  },
  {
   "cell_type": "markdown",
   "id": "546d5be3",
   "metadata": {},
   "source": [
    "# Interactive Calculator"
   ]
  },
  {
   "cell_type": "markdown",
   "id": "b6537321",
   "metadata": {},
   "source": [
    "Write a Python program that simulates an interactive calculator with the basic arithmetic operations in Python (addition, subtraction, multiplication, division, integer division, and modulo).\n",
    "\n",
    "The program must interact with the user by asking for the values and the type of operation that will be performed.\n",
    "\n",
    "The output should include the values, the operation, and the result (as shown below).\n",
    "\n",
    "The type of operation will be denoted by an integer.\n",
    "\n",
    "- 1 for addition\n",
    "\n",
    "- 2 for subtraction\n",
    "\n",
    "- 3 for multiplication\n",
    "\n",
    "- 4 for division\n",
    "\n",
    "- 5 for integer division\n",
    "\n",
    "- 6 for modulo\n",
    "\n",
    "The program should present an initial message to the user describing the types of operations and the integer that has to be entered to select each one of them.\n",
    "\n",
    "If the values entered by the user are invalid for the operation selected, a descriptive message should be displayed. For example, for a division operation the denominator cannot be 0.\n",
    "\n",
    "If the user enters an invalid integer to select the operation, print\n",
    "\n",
    "\"Please choose a valid operation\""
   ]
  },
  {
   "cell_type": "code",
   "execution_count": 23,
   "id": "0746af8a",
   "metadata": {},
   "outputs": [
    {
     "name": "stdout",
     "output_type": "stream",
     "text": [
      "First number :  100\n",
      "Second number:  40\n",
      "Operation type: 4\n",
      "Division :2.5 \n"
     ]
    }
   ],
   "source": [
    "a = int(input(\"First number :  \"))\n",
    "b = int(input(\"Second number:  \"))\n",
    "c = int(input(\"Operation type: \"))\n",
    "\n",
    "addition = a+b\n",
    "subtraction= a-b\n",
    "multiplication= a*b\n",
    "division = a/b\n",
    "integer_division = a//b\n",
    "modulo = a%b \n",
    "\n",
    "if c==1:\n",
    "    print(f'Subtraction :{subtraction} ')\n",
    "elif c==2:\n",
    "    print(f'Addition :{addition}')   \n",
    "elif c==3:\n",
    "    print(f'Multiplication :{multiplication} ')\n",
    "elif c==4:\n",
    "    if b != 0:\n",
    "        print(f'Division :{division} ')\n",
    "    else:\n",
    "        print(\"Can't be the denominator\")\n",
    "elif c==5:\n",
    "    print(f'Integer division :{integer_division}')\n",
    "elif c==6:\n",
    "    print(f'Modulo {Modulo}')\n",
    "else:\n",
    "    print(\"Please choose a valid operation\")\n",
    "          \n",
    "    "
   ]
  },
  {
   "cell_type": "markdown",
   "id": "af91c93d",
   "metadata": {},
   "source": []
  }
 ],
 "metadata": {
  "kernelspec": {
   "display_name": "Python 3 (ipykernel)",
   "language": "python",
   "name": "python3"
  },
  "language_info": {
   "codemirror_mode": {
    "name": "ipython",
    "version": 3
   },
   "file_extension": ".py",
   "mimetype": "text/x-python",
   "name": "python",
   "nbconvert_exporter": "python",
   "pygments_lexer": "ipython3",
   "version": "3.9.12"
  }
 },
 "nbformat": 4,
 "nbformat_minor": 5
}
