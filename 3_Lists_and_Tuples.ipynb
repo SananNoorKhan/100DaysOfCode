{
 "cells": [
  {
   "cell_type": "markdown",
   "id": "856698df",
   "metadata": {},
   "source": [
    "# Lists and Tuple Challenges"
   ]
  },
  {
   "cell_type": "markdown",
   "id": "1eda81fa",
   "metadata": {},
   "source": [
    "1- \n",
    "\n",
    "Write a Python program that multiplies all the items in a list by the value of the variable factor.\n",
    "\n",
    "The program must print the list as the output.\n",
    "\n",
    "The program should also allow multiplying the variable factor by a string in case the list contains strings.\n",
    "\n",
    "You may assume that the value of factor will be a positive integer."
   ]
  },
  {
   "cell_type": "code",
   "execution_count": 1,
   "id": "06278348",
   "metadata": {},
   "outputs": [
    {
     "name": "stdout",
     "output_type": "stream",
     "text": [
      "Choose the multiplication factor :  5\n"
     ]
    },
    {
     "data": {
      "text/plain": [
       "' applesapplesapplesapplesapples orangesorangesorangesorangesoranges mangoesmangoesmangoesmangoesmangoes 15 20 25 605 '"
      ]
     },
     "execution_count": 1,
     "metadata": {},
     "output_type": "execute_result"
    }
   ],
   "source": [
    "lis_t = ['apples','oranges','mangoes',3,4,5,121]\n",
    "v_fac = int(input(\"Choose the multiplication factor : \"\" \"))\n",
    "out_list = \" \"\n",
    "\n",
    "for item in lis_t:\n",
    "    res_ult = str(item * v_fac)\n",
    "    out_list += res_ult + \" \"\n",
    "\n",
    "out_list    \n",
    "    "
   ]
  },
  {
   "cell_type": "markdown",
   "id": "cb0c43b0",
   "metadata": {},
   "source": [
    "2-Write a Python program that prints the elements of a list on the same line.\n",
    "\n",
    "The elements should be separated only by a space (not by a comma).\n",
    "\n",
    "The output should not include the opening and closing square brackets [ ]."
   ]
  },
  {
   "cell_type": "code",
   "execution_count": 2,
   "id": "a513b47b",
   "metadata": {},
   "outputs": [
    {
     "name": "stdout",
     "output_type": "stream",
     "text": [
      "apples oranges mangoes 3 4 5 121 \n"
     ]
    }
   ],
   "source": [
    "final = \"\"\n",
    "\n",
    "for item in lis_t:\n",
    "    final += str(item) + \" \"\n",
    "\n",
    "print(final)    \n",
    "    "
   ]
  },
  {
   "cell_type": "markdown",
   "id": "ab67037f",
   "metadata": {},
   "source": [
    "3-\n",
    "Write a Python program that prints the largest and smallest values in a list\n",
    "\n",
    "Print the two values on the same line, separated by a space.\n",
    "\n",
    "The largest value should appear first and the smallest value should appear second.\n",
    "\n",
    "You may assume that the list only contains numeric values.\n",
    "\n",
    "If the list is empty, print None."
   ]
  },
  {
   "cell_type": "code",
   "execution_count": 3,
   "id": "47a5f7cc",
   "metadata": {},
   "outputs": [
    {
     "name": "stdout",
     "output_type": "stream",
     "text": [
      "207 11\n"
     ]
    }
   ],
   "source": [
    "num_list = [12,43,76,87,96,31,100,121,11,201,207,12,103,143]\n",
    "\n",
    "if num_list:\n",
    "    print(max(num_list), min(num_list))\n",
    "else:\n",
    "    print(\"None\")\n",
    "\n"
   ]
  },
  {
   "cell_type": "markdown",
   "id": "4803004f",
   "metadata": {},
   "source": [
    "4- Write a Python program that checks if a list is empty or not.\n",
    "\n",
    "If the list is empty, print \"Empty\". Else, print \"Not Empty\"."
   ]
  },
  {
   "cell_type": "code",
   "execution_count": 4,
   "id": "7404250b",
   "metadata": {},
   "outputs": [
    {
     "name": "stdout",
     "output_type": "stream",
     "text": [
      "Not Empty\n"
     ]
    }
   ],
   "source": [
    "list_empty= [1,2,3,4,5,6,7,8]\n",
    "\n",
    "if list_empty:\n",
    "    print(\"Not Empty\")\n",
    "else:\n",
    "    print(\"Empty\")"
   ]
  },
  {
   "cell_type": "markdown",
   "id": "96cba014",
   "metadata": {},
   "source": [
    "5- Write a Python program that prints the elements of a list followed their corresponding indices.\n",
    "\n",
    "Each element and its index must be on the same line separated by a space.\n",
    "\n",
    "If the list is empty, print \"Empty List\"."
   ]
  },
  {
   "cell_type": "code",
   "execution_count": 5,
   "id": "5ee7c522",
   "metadata": {},
   "outputs": [
    {
     "name": "stdout",
     "output_type": "stream",
     "text": [
      "0  1\n",
      "1  2\n",
      "2  3\n",
      "3  4\n",
      "4  5\n",
      "5  6\n",
      "6  7\n",
      "7  8\n"
     ]
    }
   ],
   "source": [
    "#using the list from question 4\n",
    "\n",
    "if list_empty:\n",
    "    for index,element in enumerate(list_empty):\n",
    "        print(index,\"\",element)\n",
    "else:\n",
    "     print(\"Empty List\")"
   ]
  },
  {
   "cell_type": "markdown",
   "id": "dd2a85d7",
   "metadata": {},
   "source": [
    "6-Write a Python program that removes all occurrences of the element elem_rem\n",
    "from a list.\n",
    "\n",
    "The output of the program should be the new list with the element removed.\n",
    "\n",
    "If the element is not found in the list, print the message \"Not Found\".\n",
    "\n",
    "If the list is empty, print \"Empty List\"."
   ]
  },
  {
   "cell_type": "code",
   "execution_count": 8,
   "id": "0f65c59c",
   "metadata": {},
   "outputs": [
    {
     "name": "stdout",
     "output_type": "stream",
     "text": [
      "[3, 4, 2, 32, 2, 3, 4]\n"
     ]
    }
   ],
   "source": [
    "new_list_2 = [1,1,3,4,1,2,1,1,1,32,1,1,2,3,4]\n",
    "elem_rem = 1\n",
    "\n",
    "if not new_list_2:\n",
    "    print(\"Empty List\")\n",
    "elif new_list_2.count(elem_rem) == 0:\n",
    "    print(\"Not Found\")\n",
    "for i in range(new_list_2.count(elem_rem)):\n",
    "    new_list_2.remove(elem_rem)        \n",
    "print(new_list_2)\n",
    "\n"
   ]
  },
  {
   "cell_type": "code",
   "execution_count": null,
   "id": "fd78ecab",
   "metadata": {},
   "outputs": [],
   "source": []
  }
 ],
 "metadata": {
  "kernelspec": {
   "display_name": "Python 3 (ipykernel)",
   "language": "python",
   "name": "python3"
  },
  "language_info": {
   "codemirror_mode": {
    "name": "ipython",
    "version": 3
   },
   "file_extension": ".py",
   "mimetype": "text/x-python",
   "name": "python",
   "nbconvert_exporter": "python",
   "pygments_lexer": "ipython3",
   "version": "3.9.12"
  }
 },
 "nbformat": 4,
 "nbformat_minor": 5
}
