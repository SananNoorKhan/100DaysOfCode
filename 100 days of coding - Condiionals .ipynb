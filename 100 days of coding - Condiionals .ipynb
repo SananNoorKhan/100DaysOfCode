{
 "cells": [
  {
   "cell_type": "markdown",
   "id": "bca6392c",
   "metadata": {},
   "source": [
    "# Conditionals\n"
   ]
  },
  {
   "cell_type": "markdown",
   "id": "f2f1686c",
   "metadata": {},
   "source": [
    "1) Write a Python program that prints if a number num is either \"Positive\", \"Negative\", or \"Zero\".\n",
    "\n"
   ]
  },
  {
   "cell_type": "code",
   "execution_count": 33,
   "id": "dc3fcc0c",
   "metadata": {},
   "outputs": [
    {
     "name": "stdout",
     "output_type": "stream",
     "text": [
      "Type a number3\n",
      "Positive\n"
     ]
    }
   ],
   "source": [
    "num = int(input(\"Type a number\"))\n",
    "\n",
    "if num == 0:\n",
    "    print(\"Zero\")\n",
    "elif num > 0:\n",
    "    print(\"Positive\")\n",
    "elif num < 0:\n",
    "    print(\"Negative\")\n",
    "else:\n",
    "    print(\"None\")    "
   ]
  },
  {
   "cell_type": "markdown",
   "id": "55935439",
   "metadata": {},
   "source": [
    "2)Write a Python program that prints a descriptive message indicating if each character in a string is a vowel or a consonant. For example: \"<char> is a <consonant | vowel>\"\n",
    "\n",
    "If the character is a special character, number, or symbol, print \"<char> is not a letter\".\n",
    "\n",
    "If the string is empty, print \"Empty String\"."
   ]
  },
  {
   "cell_type": "code",
   "execution_count": 34,
   "id": "71a21634",
   "metadata": {},
   "outputs": [
    {
     "name": "stdout",
     "output_type": "stream",
     "text": [
      "i is a Vowel\n",
      "  is a blank space\n",
      "a is a Vowel\n",
      "m is a consonant\n",
      "  is a blank space\n",
      "r is a consonant\n",
      "i is a Vowel\n",
      "c is a consonant\n",
      "h is a consonant\n",
      "% Not an alphabet\n",
      "a is a Vowel\n",
      "r is a consonant\n",
      "d is a consonant\n"
     ]
    }
   ],
   "source": [
    "string = \"I am rich%ard\"\n",
    "for i in string.lower():\n",
    "    if i in (\"a\",\"e\",\"i\",\"o\",\"u\"):\n",
    "        print (f'{i} is a Vowel')\n",
    "    elif i == \" \":\n",
    "        print(f'{i} is a blank space')\n",
    "    elif  not i.isalpha():\n",
    "        print(f'{i} Not an alphabet')\n",
    "    else:\n",
    "        print(f'{i} is a consonant')\n"
   ]
  },
  {
   "cell_type": "markdown",
   "id": "66d22624",
   "metadata": {},
   "source": [
    "3) Write a Python program that prints the maximum of three integers (a, b, c).\n",
    "\n"
   ]
  },
  {
   "cell_type": "code",
   "execution_count": 88,
   "id": "094882d0",
   "metadata": {},
   "outputs": [
    {
     "name": "stdout",
     "output_type": "stream",
     "text": [
      "Type value a 300\n",
      "Type value b 20\n",
      "Type value c 30\n",
      "The max number is 300\n"
     ]
    }
   ],
   "source": [
    "a,b,c = int(input(\"Type value a\" \" \")),int(input(\"Type value b\" \" \")),int(input(\"Type value c\" \" \"))\n",
    "    \n",
    "for num in a,b,c:\n",
    "    if num >= b and num >= c:\n",
    "        num = a\n",
    "    elif (num >= a) and (num >=c) :\n",
    "        num = b\n",
    "    else:\n",
    "        num = c\n",
    "    break   \n",
    "    \n",
    "print (f'The max number is {num}') "
   ]
  },
  {
   "cell_type": "markdown",
   "id": "e1241099",
   "metadata": {},
   "source": [
    "4) Write a Python program that prints the smallest of three integers a, b, and c.\n",
    "\n"
   ]
  },
  {
   "cell_type": "code",
   "execution_count": 96,
   "id": "450672a3",
   "metadata": {},
   "outputs": [
    {
     "name": "stdout",
     "output_type": "stream",
     "text": [
      "Type value a 2\n",
      "Type value b 1\n",
      "Type value c 4\n",
      "Smallest num is 1\n"
     ]
    }
   ],
   "source": [
    "a,b,c = int(input(\"Type value a\" \" \")),int(input(\"Type value b\" \" \")),int(input(\"Type value c\" \" \"))\n",
    "\n",
    "small_num= a\n",
    "if a<b and a<c:\n",
    "    small_num=a\n",
    "elif b<a and b<c:\n",
    "        small_num=b\n",
    "else:\n",
    "    small_num = c\n",
    "\n",
    "print(f'Smallest num is {small_num}')        \n",
    "\n"
   ]
  },
  {
   "cell_type": "markdown",
   "id": "5b7701ba",
   "metadata": {},
   "source": [
    "5)Write a Python program that prints the corresponding season based on the value of the variable season_num.\n",
    "\n",
    "The possible values of season_num are: 1 for Spring, 2 for Summer, 3 for Fall, 4 for Winter.\n",
    "\n",
    "If the value of season_num is neither one of these values, print \"Please enter a valid number\"."
   ]
  },
  {
   "cell_type": "code",
   "execution_count": 102,
   "id": "09ac76f5",
   "metadata": {},
   "outputs": [
    {
     "name": "stdout",
     "output_type": "stream",
     "text": [
      "Enter season num (1 to 4) 4\n",
      "Winter\n"
     ]
    }
   ],
   "source": [
    "season_num=int(input(\"Enter season num (1 to 4) \"))\n",
    "\n",
    "if season_num==1:\n",
    "    print(\"Spring\")\n",
    "elif season_num==2:\n",
    "    print(\"Summer\")\n",
    "elif season_num==3:\n",
    "    print(\"Fall\")\n",
    "elif season_num==4:\n",
    "    print('Winter')\n",
    "else:\n",
    "    print(\"Enter a valid number\")\n",
    "    \n"
   ]
  },
  {
   "cell_type": "markdown",
   "id": "be77b82c",
   "metadata": {},
   "source": [
    "6) Write a Python program that prints \"Equal\" if three numbers a, b, and c are equal.\n",
    "\n",
    "If at least one number if different, the program should print \"Not Equal\"."
   ]
  },
  {
   "cell_type": "code",
   "execution_count": 105,
   "id": "1f8b1b19",
   "metadata": {},
   "outputs": [
    {
     "name": "stdout",
     "output_type": "stream",
     "text": [
      "Type value a 10\n",
      "Type value b 10\n",
      "Type value c 10\n",
      "Equal\n"
     ]
    }
   ],
   "source": [
    "a,b,c = int(input(\"Type value a\" \" \")),int(input(\"Type value b\" \" \")),int(input(\"Type value c\" \" \"))\n",
    "\n",
    "if a==b and b==c:\n",
    "    print(\"Equal\")\n",
    "else:\n",
    "    print(\"Not Equal\")"
   ]
  },
  {
   "cell_type": "code",
   "execution_count": null,
   "id": "1aa5bb3b",
   "metadata": {},
   "outputs": [],
   "source": []
  }
 ],
 "metadata": {
  "kernelspec": {
   "display_name": "Python 3 (ipykernel)",
   "language": "python",
   "name": "python3"
  },
  "language_info": {
   "codemirror_mode": {
    "name": "ipython",
    "version": 3
   },
   "file_extension": ".py",
   "mimetype": "text/x-python",
   "name": "python",
   "nbconvert_exporter": "python",
   "pygments_lexer": "ipython3",
   "version": "3.9.12"
  }
 },
 "nbformat": 4,
 "nbformat_minor": 5
}
