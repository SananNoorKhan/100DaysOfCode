{
 "cells": [
  {
   "cell_type": "markdown",
   "id": "8de177e4",
   "metadata": {},
   "source": [
    "# Strings Part 2"
   ]
  },
  {
   "cell_type": "markdown",
   "id": "364d5dbc",
   "metadata": {},
   "source": [
    "1-\n",
    "\n",
    "Write a Python program that prints a version of the string s with all commas replaced by dots.\n"
   ]
  },
  {
   "cell_type": "code",
   "execution_count": 2,
   "id": "2866e6e0",
   "metadata": {},
   "outputs": [
    {
     "name": "stdout",
     "output_type": "stream",
     "text": [
      "Type in the phraseLove. This. City,\n",
      "Your new phrase is :  Love. This. City.\n"
     ]
    }
   ],
   "source": [
    "#Write a Python program that prints a version of the string s with all commas replaced by dots.\n",
    "\n",
    "s =input(\"Type in the phrase\")\n",
    "print (\"Your new phrase is : \", s.replace(\",\",\".\"))"
   ]
  },
  {
   "cell_type": "markdown",
   "id": "d8fddda9",
   "metadata": {},
   "source": [
    "2) \n",
    "\n",
    "Write a Python program that checks if the string s contains all the letters in the alphabet (case-insensitive, so \"A\" should be equivalent to \"a\").\n",
    "\n",
    "If it does, print True. Else, print False.\n",
    "\n",
    "Before comparing the characters, you should convert the string to lowercase.\n",
    "\n",
    "If the string contains spaces, ignore them before finding the result.\n",
    "\n",
    "You may assume that the string doesn't contain any other symbols, only spaces (possibly).\n",
    "\n",
    "Consider these letters as part of the alphabet: 'abcdefghijklmnopqrstuvwxyz'"
   ]
  },
  {
   "cell_type": "code",
   "execution_count": 3,
   "id": "7748689b",
   "metadata": {},
   "outputs": [
    {
     "name": "stdout",
     "output_type": "stream",
     "text": [
      "False\n"
     ]
    }
   ],
   "source": [
    "import string\n",
    "\n",
    "set_a = set(s.lower())\n",
    "set_a.remove(\",\")\n",
    "print(set_a == set(string.ascii_lowercase))\n",
    "\n",
    "\n",
    "    "
   ]
  },
  {
   "cell_type": "markdown",
   "id": "a73534d4",
   "metadata": {},
   "source": [
    "3) \n",
    "Write a Python program that prints a copy of the string s without any spaces.\n",
    "\n",
    "Words should be connected in the final string.\n",
    "\n",
    "If the string doesn't contain spaces, print it intact."
   ]
  },
  {
   "cell_type": "code",
   "execution_count": 4,
   "id": "9c2f3525",
   "metadata": {},
   "outputs": [
    {
     "name": "stdout",
     "output_type": "stream",
     "text": [
      "Love.This.City,\n"
     ]
    }
   ],
   "source": [
    "\n",
    "s_copy = s\n",
    "for i in s_copy:\n",
    "    if i ==\" \" :\n",
    "         s_copy= s_copy.replace(i,\"\")\n",
    "print(s_copy)        \n",
    "        "
   ]
  },
  {
   "cell_type": "markdown",
   "id": "3abd6f26",
   "metadata": {},
   "source": [
    "4)\n",
    "\n",
    "Write a Python program that checks if the string s starts with the sequence of characters denoted by the variable prefix.\n",
    "\n",
    "If it does, print True. Else, print False.\n",
    "\n",
    "This test should be case sensitive. For example, \"A\" should not be equivalent to \"a\".\n",
    "\n",
    "If the length of the prefix is greater than the length of the string, print False.\n"
   ]
  },
  {
   "cell_type": "code",
   "execution_count": 10,
   "id": "9959f7c1",
   "metadata": {},
   "outputs": [
    {
     "name": "stdout",
     "output_type": "stream",
     "text": [
      "prefix:  Lo\n",
      "True\n"
     ]
    }
   ],
   "source": [
    "prefix = input(\"prefix:  \")\n",
    "print( prefix ==s[:len(prefix)])"
   ]
  },
  {
   "cell_type": "markdown",
   "id": "cf7739b9",
   "metadata": {},
   "source": [
    "5) \n",
    "\n",
    "Write a Python program that checks if the string s ends with a specific sequence of characters denoted by the variable suffix.\n",
    "\n",
    "If it does, print True. Else, print False.\n",
    "\n",
    "This test should be case sensitive. Therefore, \"A\" should not be equivalent to \"a\".\n",
    "\n",
    "If the length of the suffix is greater than the length of the string, print False."
   ]
  },
  {
   "cell_type": "code",
   "execution_count": 7,
   "id": "f99b8d11",
   "metadata": {},
   "outputs": [
    {
     "name": "stdout",
     "output_type": "stream",
     "text": [
      "Suffix: ty\n",
      "False\n"
     ]
    }
   ],
   "source": [
    "suffix= input(\"Suffix: \")\n",
    "print(s.endswith(suffix))"
   ]
  },
  {
   "cell_type": "markdown",
   "id": "1801dcdb",
   "metadata": {},
   "source": [
    "6)\n",
    "\n",
    "Write a Python program that reverses the individual words in the string s and changes their capitalization. Uppercase letters should be printed in lowercase and vice versa.\n",
    "\n",
    "Assume that the string only contains letters and spaces are used to separate words."
   ]
  },
  {
   "cell_type": "code",
   "execution_count": 26,
   "id": "38a7f9da",
   "metadata": {},
   "outputs": [
    {
     "data": {
      "text/plain": [
       "'i EVOl STUNOd '"
      ]
     },
     "execution_count": 26,
     "metadata": {},
     "output_type": "execute_result"
    }
   ],
   "source": [
    "s_one = \"I Love Donuts\"\n",
    "words = s_one.split(\" \")\n",
    "reverse_s = \"\"\n",
    "for word in words:\n",
    "        rev_word =  \"\".join(reversed(word))\n",
    "        swapped= rev_word.swapcase()\n",
    "        reverse_s += swapped + \" \"\n",
    "reverse_s        \n",
    "    \n"
   ]
  },
  {
   "cell_type": "code",
   "execution_count": null,
   "id": "087b134a",
   "metadata": {},
   "outputs": [],
   "source": []
  },
  {
   "cell_type": "code",
   "execution_count": null,
   "id": "ecaaea1d",
   "metadata": {},
   "outputs": [],
   "source": []
  }
 ],
 "metadata": {
  "kernelspec": {
   "display_name": "Python 3 (ipykernel)",
   "language": "python",
   "name": "python3"
  },
  "language_info": {
   "codemirror_mode": {
    "name": "ipython",
    "version": 3
   },
   "file_extension": ".py",
   "mimetype": "text/x-python",
   "name": "python",
   "nbconvert_exporter": "python",
   "pygments_lexer": "ipython3",
   "version": "3.9.12"
  }
 },
 "nbformat": 4,
 "nbformat_minor": 5
}
