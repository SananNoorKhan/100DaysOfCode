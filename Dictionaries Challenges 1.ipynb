{
 "cells": [
  {
   "cell_type": "markdown",
   "id": "a1c39c83",
   "metadata": {},
   "source": [
    "# Dictionary Challenges "
   ]
  },
  {
   "cell_type": "markdown",
   "id": "bbb32bb8",
   "metadata": {},
   "source": [
    "1) Write a Python program that checks if a key exists in a dictionary or not.\n",
    "\n",
    "If the key exists in the dictionary, print True. Else, print False.\n",
    "\n",
    "The key should be stored in the variable key."
   ]
  },
  {
   "cell_type": "code",
   "execution_count": 2,
   "id": "53dfbc0c",
   "metadata": {},
   "outputs": [
    {
     "name": "stdout",
     "output_type": "stream",
     "text": [
      "type the key you are searching for ball\n",
      "True\n"
     ]
    }
   ],
   "source": [
    "diction = {\"apple\" : 3,\"ball\" : 5 ,\"cat\" : 10 }\n",
    "key = input(\"type the key you are searching for\" \" \")\n",
    "check = key in diction\n",
    "print(check)"
   ]
  },
  {
   "cell_type": "markdown",
   "id": "a7d1f552",
   "metadata": {},
   "source": [
    "2) Write a Python program that adds a new key-value pair to a dictionary only if the key doesn't exist already.\n",
    "\n",
    "If the key-value pair exists in the dictionary, do not update the existing value. The dictionary should not be modified in this case.\n",
    "\n",
    "Store the new key in the new_key variable and the new value in the new_value variable.\n",
    "\n",
    "Print the final value of the dictionary."
   ]
  },
  {
   "cell_type": "code",
   "execution_count": 3,
   "id": "765752d2",
   "metadata": {},
   "outputs": [
    {
     "name": "stdout",
     "output_type": "stream",
     "text": [
      "{'apple': 3, 'ball': 5, 'cat': 10, 'Oranges': 13}\n"
     ]
    }
   ],
   "source": [
    "dictions = {\"apple\" : 3,\"ball\" : 5 ,\"cat\" : 10 }\n",
    "new_key = \"Oranges\"\n",
    "value = 13\n",
    "if new_key not in dictions:\n",
    "    dictions[new_key] = value\n",
    "print(dictions)    "
   ]
  },
  {
   "cell_type": "markdown",
   "id": "1a35300f",
   "metadata": {},
   "source": [
    "3) Write a Python program that merges two dictionaries and prints the resulting dictionary.\n",
    "\n",
    "\"Merging\" the dictionaries involves making a new dictionary with the key-value pairs in both dictionaries."
   ]
  },
  {
   "cell_type": "code",
   "execution_count": 14,
   "id": "3476d956",
   "metadata": {},
   "outputs": [
    {
     "data": {
      "text/plain": [
       "{'apples': 12,\n",
       " 'mangoes': 6,\n",
       " 'apricot': 12,\n",
       " 'bananas': 109,\n",
       " 'plums': 1,\n",
       " 'unidentified fruit': 1}"
      ]
     },
     "execution_count": 14,
     "metadata": {},
     "output_type": "execute_result"
    }
   ],
   "source": [
    "dic_t1={\"apples\":12,\"mangoes\":6,\"apricot\":12}\n",
    "dic_t2={\"bananas\":109, \"plums\":1 , \"unidentified fruit\" : 1}\n",
    "merged_dict = dic_t1 | dic_t2 \n",
    "merged_dict"
   ]
  },
  {
   "cell_type": "markdown",
   "id": "cbadd774",
   "metadata": {},
   "source": [
    "4) Write a Python program that checks if all values in a dictionary are equal.\n",
    "\n",
    "If they are, print True. Else, print False.\n",
    "\n",
    "If the dictionary is empty, print \"Empty\"."
   ]
  },
  {
   "cell_type": "code",
   "execution_count": 19,
   "id": "6b3d3672",
   "metadata": {},
   "outputs": [
    {
     "name": "stdout",
     "output_type": "stream",
     "text": [
      "True\n"
     ]
    }
   ],
   "source": [
    "dic_eq={\"apples\":12,\"mangoes\":12,\"apricot\":12}\n",
    "unique_val = len(set(dic_eq.values()))\n",
    "if unique_val == 0:\n",
    "    print('Empty')\n",
    "elif unique_val ==1:\n",
    "    print(\"True\")\n",
    "else:\n",
    "    print('False')"
   ]
  },
  {
   "cell_type": "markdown",
   "id": "c24d65b0",
   "metadata": {},
   "source": [
    "5) Write a Python program that prints the largest value in a dictionary.\n",
    "\n",
    "If the dictionary is empty, print None.\n",
    "\n",
    "You may assume that the values are numeric."
   ]
  },
  {
   "cell_type": "code",
   "execution_count": 36,
   "id": "ca699e6d",
   "metadata": {},
   "outputs": [
    {
     "name": "stdout",
     "output_type": "stream",
     "text": [
      "None\n"
     ]
    }
   ],
   "source": [
    "di_large={}\n",
    "if len(di_large.values()) == 0:\n",
    "        print('None')\n",
    "else:\n",
    "    print(max(di_large.values()))\n",
    "    \n",
    "\n"
   ]
  },
  {
   "cell_type": "markdown",
   "id": "0bffa5a1",
   "metadata": {},
   "source": [
    "6) Write a Python program that prints the smallest value in a dictionary.\n",
    "\n",
    "If the dictionary is empty, print None.\n",
    "\n",
    "You may assume that the values are numeric."
   ]
  },
  {
   "cell_type": "code",
   "execution_count": 38,
   "id": "ff0c725b",
   "metadata": {},
   "outputs": [
    {
     "name": "stdout",
     "output_type": "stream",
     "text": [
      "2\n"
     ]
    }
   ],
   "source": [
    "di_small={\"apples\":2,\"mangoes\":6,\"apricot\":14}\n",
    "if len(di_small.values()) == 0:\n",
    "    print('None')\n",
    "else:\n",
    "    print(min(di_small.values()))    \n"
   ]
  },
  {
   "cell_type": "code",
   "execution_count": null,
   "id": "e1555452",
   "metadata": {},
   "outputs": [],
   "source": []
  }
 ],
 "metadata": {
  "kernelspec": {
   "display_name": "Python 3 (ipykernel)",
   "language": "python",
   "name": "python3"
  },
  "language_info": {
   "codemirror_mode": {
    "name": "ipython",
    "version": 3
   },
   "file_extension": ".py",
   "mimetype": "text/x-python",
   "name": "python",
   "nbconvert_exporter": "python",
   "pygments_lexer": "ipython3",
   "version": "3.9.12"
  }
 },
 "nbformat": 4,
 "nbformat_minor": 5
}
