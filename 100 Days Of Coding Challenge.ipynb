{
 "cells": [
  {
   "cell_type": "markdown",
   "id": "ce02b456",
   "metadata": {},
   "source": [
    "# 100 days of code"
   ]
  },
  {
   "cell_type": "markdown",
   "id": "e388dd78",
   "metadata": {},
   "source": [
    "Strings "
   ]
  },
  {
   "cell_type": "code",
   "execution_count": 27,
   "id": "02187bb0",
   "metadata": {},
   "outputs": [
    {
     "name": "stdout",
     "output_type": "stream",
     "text": [
      "27\n"
     ]
    }
   ],
   "source": [
    "import pandas as pd\n",
    "\n",
    "#1 Write a Python program that prints the length of a string s.\n",
    "s = ('My name is Ronnie Pickering')\n",
    "print(len(s))    "
   ]
  },
  {
   "cell_type": "code",
   "execution_count": 2,
   "id": "8e0fbf0a",
   "metadata": {},
   "outputs": [
    {
     "name": "stdout",
     "output_type": "stream",
     "text": [
      " enter the indice number12\n",
      "the character for index 12 is o\n"
     ]
    }
   ],
   "source": [
    "#2 a)Write a Python program that prints the character at index i in the string s.\n",
    "#If the index is out of range, the program should print \"i is out of range\"\n",
    "#If the string is empty, the program should print \"Empty String\"\n",
    "\n",
    "#a\n",
    "i =int(input(f\" enter the indice number\",))\n",
    "\n",
    "#c\n",
    "if len(s) == 0:\n",
    "    print(\"Empty String\")\n",
    "#b\n",
    "elif i > len(s):\n",
    "    print(\"index out of range\") \n",
    "else:\n",
    "    print(f'the character for index {i} is {s[i]}')\n",
    "                        \n",
    "    \n"
   ]
  },
  {
   "cell_type": "code",
   "execution_count": 3,
   "id": "b9bb8364",
   "metadata": {},
   "outputs": [
    {
     "data": {
      "text/plain": [
       "'gnirekciP einnoR si eman yM'"
      ]
     },
     "execution_count": 3,
     "metadata": {},
     "output_type": "execute_result"
    }
   ],
   "source": [
    "#3 Write a Python Program that prints the reversed version of a string.\n",
    "\n",
    "reverse = s[::-1]\n",
    "reverse"
   ]
  },
  {
   "cell_type": "code",
   "execution_count": 4,
   "id": "7984c42a",
   "metadata": {},
   "outputs": [
    {
     "name": "stdout",
     "output_type": "stream",
     "text": [
      "My ing\n"
     ]
    }
   ],
   "source": [
    "#4 Write a Python program that prints the first and last three characters of the string s as a single string.\n",
    "\n",
    "first_last =s[0:3]+s[len(s)-3:]\n",
    "print(first_last)"
   ]
  },
  {
   "cell_type": "code",
   "execution_count": 5,
   "id": "91342d27",
   "metadata": {},
   "outputs": [
    {
     "data": {
      "text/plain": [
       "'ynm sRni ikrn'"
      ]
     },
     "execution_count": 5,
     "metadata": {},
     "output_type": "execute_result"
    }
   ],
   "source": [
    "#5 Write a Python program that prints the string s without the characters located at even indices.\n",
    "\n",
    "ex_even = \"\"\n",
    "for i in range(len(s)):\n",
    "    if i %2 != 0:\n",
    "        ex_even += s[i]\n",
    "ex_even    \n"
   ]
  },
  {
   "cell_type": "code",
   "execution_count": 6,
   "id": "2f3e1b4f",
   "metadata": {},
   "outputs": [
    {
     "name": "stdout",
     "output_type": "stream",
     "text": [
      "False\n"
     ]
    }
   ],
   "source": [
    "#6 Write a Python program that check if a string only contains numbers.\n",
    "\n",
    "#If it does, print True. Else, print False.\n",
    "is_num = s.isdecimal()\n",
    "print(is_num)    "
   ]
  },
  {
   "cell_type": "code",
   "execution_count": 7,
   "id": "420b05e3",
   "metadata": {},
   "outputs": [
    {
     "name": "stdout",
     "output_type": "stream",
     "text": [
      "Select n12\n",
      "My name is Rnnie Pickering\n"
     ]
    }
   ],
   "source": [
    "#7 Write a Python program that prints the string \"s\" without the character at index \"n\".\n",
    "ind_ex = int(input(\"Select n\"))\n",
    "new_s = \"\"\n",
    "for i in range(len(s)):\n",
    "    if i != ind_ex:\n",
    "        new_s+= s[i]\n",
    "print(new_s)\n"
   ]
  },
  {
   "cell_type": "markdown",
   "id": "7d8b12e5",
   "metadata": {},
   "source": [
    "Final Exercise of Part 1\n",
    "1-Write a Python program that prints the string s with the character curr_char replaced by the character new_char.\n",
    "2-curr_char and new_char are variables that contain strings with a single character.\n",
    "3-You may assume that new_char will not be an empty string.\n",
    "4-The match must be case-sensitive (do not replace lowercase letters if curr_char is uppercase).\n",
    "5-If no match is found, print the initial string."
   ]
  },
  {
   "cell_type": "code",
   "execution_count": 25,
   "id": "462aab88",
   "metadata": {},
   "outputs": [
    {
     "name": "stdout",
     "output_type": "stream",
     "text": [
      "Character to be replaced?r\n",
      "New Charactero\n",
      "My name is Ronnie Pickeoing\n"
     ]
    }
   ],
   "source": [
    "curr_char=input(\"Character to be replaced?\")\n",
    "new_char = input(\"New Character\")\n",
    "ans=\"\"\n",
    "\n",
    "for i in s:\n",
    "    if i == curr_char:\n",
    "        ans+= new_char\n",
    "    else:\n",
    "        ans+=i\n",
    "print(ans)        \n",
    "    \n",
    "    "
   ]
  },
  {
   "cell_type": "code",
   "execution_count": null,
   "id": "94b09362",
   "metadata": {},
   "outputs": [],
   "source": []
  }
 ],
 "metadata": {
  "kernelspec": {
   "display_name": "Python 3 (ipykernel)",
   "language": "python",
   "name": "python3"
  },
  "language_info": {
   "codemirror_mode": {
    "name": "ipython",
    "version": 3
   },
   "file_extension": ".py",
   "mimetype": "text/x-python",
   "name": "python",
   "nbconvert_exporter": "python",
   "pygments_lexer": "ipython3",
   "version": "3.9.12"
  }
 },
 "nbformat": 4,
 "nbformat_minor": 5
}
