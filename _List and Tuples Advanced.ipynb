{
 "cells": [
  {
   "cell_type": "markdown",
   "id": "aacae53f",
   "metadata": {},
   "source": [
    "# List and Tuples Advanced"
   ]
  },
  {
   "cell_type": "markdown",
   "id": "f5c3cf35",
   "metadata": {},
   "source": [
    "1) Write a Python program that prints (as a list) the elements of listA that are not in listB as a list.\n",
    "\n",
    "If the lists have the same elements, print an empty list.\n",
    "\n",
    "If listA is an empty list, print an empty list."
   ]
  },
  {
   "cell_type": "code",
   "execution_count": 111,
   "id": "e3b446a3",
   "metadata": {},
   "outputs": [
    {
     "name": "stdout",
     "output_type": "stream",
     "text": [
      "[2, 6, 14, 18]\n"
     ]
    }
   ],
   "source": [
    "lista = [2,4,6,8,12,14,16,18,20]\n",
    "listb = [4,8,12,16,20,24,28,32,36,40]\n",
    "sol_list= []\n",
    "\n",
    "for i in lista:\n",
    "    if i not in listb:\n",
    "        sol_list.append(i)\n",
    "\n",
    "print(sol_list)        \n",
    "        "
   ]
  },
  {
   "cell_type": "markdown",
   "id": "e6c0c83f",
   "metadata": {},
   "source": [
    "2) Write a Python program that calculates the distance between two 3D points.\n",
    "\n",
    "The points are represented by two lists with three elements. The first element is the x-coordinate. The second element is the y-coordinate. The third element is the z-coordinate"
   ]
  },
  {
   "cell_type": "code",
   "execution_count": 112,
   "id": "82da1ff4",
   "metadata": {},
   "outputs": [
    {
     "name": "stdout",
     "output_type": "stream",
     "text": [
      "x1 1\n",
      "y1 2\n",
      "Z1 3\n",
      "x2 1\n",
      "Y2 2\n",
      "Z2 3\n",
      "the distance is 0.0\n"
     ]
    }
   ],
   "source": [
    "import math \n",
    "ax,ay,az =int(input(\"x1 \" )),int(input(\"y1 \" )),int(input(\"Z1\" \" \"))\n",
    "bx,by,bz =int(input(\"x2 \" )),int(input(\"Y2 \" )),int(input(\"Z2\" \" \"))\n",
    "\n",
    "solution=math.sqrt((bx-ax)**2 + (by-ay)**2 + (bz-az)**2)\n",
    "\n",
    "print(\"the distance is\", solution)\n"
   ]
  },
  {
   "cell_type": "markdown",
   "id": "37bee3b9",
   "metadata": {},
   "source": [
    "3) Write a Python program that prints a list with the elements that listA and listB have in common.\n",
    "\n",
    "If they don't have any elements in common, print an empty list.\n",
    "\n",
    "The program should not assume that the lists have the same length.\n",
    "\n",
    "You may assume that each element will only appear once in each list."
   ]
  },
  {
   "cell_type": "code",
   "execution_count": 113,
   "id": "f1997565",
   "metadata": {},
   "outputs": [
    {
     "name": "stdout",
     "output_type": "stream",
     "text": [
      "[1, 7]\n"
     ]
    }
   ],
   "source": [
    "lista = [1,2,3,6,7,9]\n",
    "listb = [5,1,4,7]\n",
    "new_list=[]\n",
    "\n",
    "for i in lista:\n",
    "    if i in listb:\n",
    "        new_list.append(i)\n",
    "        \n",
    "print(new_list)        "
   ]
  },
  {
   "cell_type": "markdown",
   "id": "e79cd4e9",
   "metadata": {},
   "source": [
    "4) Write a Python program that prints the second largest value in a list.\n",
    "\n",
    "If the list is empty or only has one element, print None.\n"
   ]
  },
  {
   "cell_type": "code",
   "execution_count": 114,
   "id": "1cce1cc6",
   "metadata": {},
   "outputs": [
    {
     "name": "stdout",
     "output_type": "stream",
     "text": [
      "500\n"
     ]
    }
   ],
   "source": [
    "a = [1,2,3,4,5,100,200,140,2,3,4,500,1230,300]\n",
    "second_largest = sorted(a,reverse=True)\n",
    "answer = second_largest[1]\n",
    "\n",
    "print(answer)"
   ]
  },
  {
   "cell_type": "markdown",
   "id": "d20efe3f",
   "metadata": {},
   "source": [
    "5) Write a Python program that prints the second smallest value in a list.\n",
    "\n",
    "If the list is empty or only has one element, print None."
   ]
  },
  {
   "cell_type": "code",
   "execution_count": 115,
   "id": "d86297c3",
   "metadata": {},
   "outputs": [
    {
     "name": "stdout",
     "output_type": "stream",
     "text": [
      "The second smallest value is 40\n"
     ]
    }
   ],
   "source": [
    "smalls=[60,70,300,30,40,30,120,340,500]\n",
    "second_smallest = sorted(smalls)\n",
    "answer = second_smallest[2]\n",
    "if len(smalls) <= 1:\n",
    "    print(\"None\")\n",
    "else:    \n",
    "    print(\"The second smallest value is\" ,answer)"
   ]
  },
  {
   "cell_type": "markdown",
   "id": "1e6c8513",
   "metadata": {},
   "source": [
    "6-\n",
    "\n",
    "Write a Python program that creates and print a dictionary that maps each element in a list to its corresponding frequency (how many times it occurs in the list).\n",
    "\n",
    "The test should be case-sensitive. Therefore, \"A\" should not be considered the same element as \"a\"."
   ]
  },
  {
   "cell_type": "code",
   "execution_count": 116,
   "id": "46043195",
   "metadata": {},
   "outputs": [
    {
     "name": "stdout",
     "output_type": "stream",
     "text": [
      "{1: 5, 2: 8, 3: 7}\n"
     ]
    }
   ],
   "source": [
    "dict_list = [1,1,2,2,3,3,2,2,1,2,3,3,3,1,2,3,1,2,3,2]\n",
    "f_dict = {}\n",
    "\n",
    "for i in dict_list:\n",
    "    if i not in f_dict:\n",
    "        f_dict[i] = 1\n",
    "    else:\n",
    "        f_dict[i] += 1\n",
    "print(f_dict)        "
   ]
  },
  {
   "cell_type": "markdown",
   "id": "2e5b2d73",
   "metadata": {},
   "source": [
    "7-\n",
    "\n",
    "Write a Python program that prints a \"flattened\" version of a list that contains nested lists.\n",
    "\n",
    "\"Flattened\" means that all the elements in the nested lists should be added to a main list such that it doesn't contain any nested lists, just the individual.\n",
    "\n",
    "The list could contain other elements that are not lists or other sequences, so you must check the type of each element and act appropriately.\n",
    "\n",
    "If the list is empty, print an empty list."
   ]
  },
  {
   "cell_type": "code",
   "execution_count": 117,
   "id": "8584aaf7",
   "metadata": {},
   "outputs": [
    {
     "data": {
      "text/plain": [
       "['a', 'b', 'c', 1, 2, 3, 4, 5, 6, 7, 8, 9]"
      ]
     },
     "execution_count": 117,
     "metadata": {},
     "output_type": "execute_result"
    }
   ],
   "source": [
    "old_list = [\"a\",\"b\",\"c\",[1,2,3],[4,5,6],[7,8,9]]\n",
    "flat_list = []\n",
    "for number in old_list:\n",
    "    if isinstance(number,list):\n",
    "        for nest_num in number:\n",
    "            flat_list.append(nest_num)\n",
    "    else:\n",
    "        flat_list.append(number)        \n",
    "flat_list            "
   ]
  },
  {
   "cell_type": "code",
   "execution_count": null,
   "id": "7567a199",
   "metadata": {},
   "outputs": [],
   "source": []
  }
 ],
 "metadata": {
  "kernelspec": {
   "display_name": "Python 3 (ipykernel)",
   "language": "python",
   "name": "python3"
  },
  "language_info": {
   "codemirror_mode": {
    "name": "ipython",
    "version": 3
   },
   "file_extension": ".py",
   "mimetype": "text/x-python",
   "name": "python",
   "nbconvert_exporter": "python",
   "pygments_lexer": "ipython3",
   "version": "3.9.12"
  }
 },
 "nbformat": 4,
 "nbformat_minor": 5
}
