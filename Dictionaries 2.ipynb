{
 "cells": [
  {
   "cell_type": "markdown",
   "id": "38ed5f55",
   "metadata": {},
   "source": [
    "# Advanced Dictionary Challenges "
   ]
  },
  {
   "cell_type": "markdown",
   "id": "7579b149",
   "metadata": {},
   "source": [
    "1) Write a Python program that counts the frequency of each value in a dictionary.\n",
    "\n",
    "The program should create a new dictionary to map each value in the original dictionary to its frequency (how many times it occurs).\n",
    "\n",
    "If the dictionary is empty, print an empty dictionary."
   ]
  },
  {
   "cell_type": "code",
   "execution_count": 58,
   "id": "c0ef3313",
   "metadata": {},
   "outputs": [
    {
     "name": "stdout",
     "output_type": "stream",
     "text": [
      "{20: 3, 40: 2, 12: 2}\n"
     ]
    }
   ],
   "source": [
    "diction_ary = {\"apples\":20,\"bananas\":20,\"apricots\":40,\"blueberries\":40,\"avacadoes\":20,\"cherries\":12,\"watermelons\":12}\n",
    "freq = {}\n",
    "\n",
    "for i in diction_ary.values():\n",
    "    if i in freq:\n",
    "        freq[i] += 1\n",
    "    else:\n",
    "        freq[i] = 1\n",
    "\n",
    "print(freq)        "
   ]
  },
  {
   "cell_type": "markdown",
   "id": "f7115a0f",
   "metadata": {},
   "source": [
    "2) Write a Python program that creates a dictionary from the values contained in nested lists.\n",
    "\n",
    "Each nested list has this format [value1, value2].\n",
    "\n",
    "value1 should be the key in the dictionary and value2 should be its corresponding value.\n",
    "\n",
    "If there are no nested lists, print an empty dictionary."
   ]
  },
  {
   "cell_type": "code",
   "execution_count": 59,
   "id": "c3ec7ec3",
   "metadata": {},
   "outputs": [
    {
     "name": "stdout",
     "output_type": "stream",
     "text": [
      "{'Color': 'Blue', 'Shape': 'Round', 'Size': 40}\n"
     ]
    }
   ],
   "source": [
    "dict_nest =[[\"Color\",\"Blue\"],[\"Shape\",\"Round\"],[\"Size\",40]]\n",
    "prop={}\n",
    "\n",
    "for i in dict_nest:\n",
    "    key = i[0]\n",
    "    value=i[1]\n",
    "    prop[key]= value\n",
    "    \n",
    "print(prop)    "
   ]
  },
  {
   "cell_type": "markdown",
   "id": "0e6b5f22",
   "metadata": {},
   "source": [
    "3) Write a Python program that prints the largest of the values in a dictionary.\n",
    "\n",
    "You may assume that all the values in the dictionary are either lists or tuples."
   ]
  },
  {
   "cell_type": "code",
   "execution_count": 96,
   "id": "7b98e5f9",
   "metadata": {},
   "outputs": [
    {
     "name": "stdout",
     "output_type": "stream",
     "text": [
      "157\n"
     ]
    }
   ],
   "source": [
    "my_dict = {\"a\": [1, 2, 3],\"b\": [4, 0, -4],\"c\": [3, 5, 9],\"d\": [45, 12, 100]}\n",
    "maxy= None\n",
    "for i in my_dict.values():\n",
    "    sum_vals= sum(i)\n",
    "    if maxy is None:\n",
    "        maxy=sum_vals\n",
    "    elif maxy < sum_vals:\n",
    "        maxy=sum_vals\n",
    "\n",
    "print(maxy)"
   ]
  },
  {
   "cell_type": "markdown",
   "id": "2399314e",
   "metadata": {},
   "source": [
    "4) Write a Python program that creates and displays a dictionary that maps each letter in a string to how many times the character occurs in the string (its frequency).\n",
    "\n",
    "The dictionary should only include the characters in the string. \n",
    "\n",
    "The test should be case-insensitive (\"A\" should be counted as \"a\").\n",
    "\n",
    "The keys in the dictionary should be lowercase letters.\n",
    "\n",
    "Only include letters in the dictionary."
   ]
  },
  {
   "cell_type": "code",
   "execution_count": 103,
   "id": "b89e08eb",
   "metadata": {},
   "outputs": [
    {
     "name": "stdout",
     "output_type": "stream",
     "text": [
      "{'t': 2, 'h': 2, 'i': 2, 's': 2, ' ': 2, 'p': 1, 'y': 1, 'o': 1, 'n': 1}\n"
     ]
    }
   ],
   "source": [
    "char_list = \"This is python\"\n",
    "dict_char = {}\n",
    "for i in char_list.lower():\n",
    "    if i not in dict_char:\n",
    "        dict_char[i]=1\n",
    "    else:\n",
    "        dict_char[i] += 1\n",
    "print(dict_char)        "
   ]
  },
  {
   "cell_type": "markdown",
   "id": "2874f0f2",
   "metadata": {},
   "source": [
    "5) Write a Python program that sorts (in ascending order) the lists contained as values in a dictionary.\n",
    "\n",
    "The dictionary contains key-value pairs that match strings to lists. You need to sort these lists.\n",
    "\n",
    "The lists have to be mutated (changed)."
   ]
  },
  {
   "cell_type": "code",
   "execution_count": 151,
   "id": "3f265ba3",
   "metadata": {},
   "outputs": [
    {
     "name": "stdout",
     "output_type": "stream",
     "text": [
      "{'a': [2, 3, 4], 'b': [3, 5, 7], 'c': [1, 9, 10], 'd': [1, 3, 4]}\n"
     ]
    }
   ],
   "source": [
    "dict_list = {\n",
    "\"a\": [4, 3, 2],\"b\": [5, 3, 7],\"c\": [1, 9, 10],\"d\": [3, 4, 1]}\n",
    "\n",
    "for i in dict_list.values():\n",
    "   i.sort()\n",
    "    \n",
    "print(dict_list) \n"
   ]
  },
  {
   "cell_type": "markdown",
   "id": "90b50e43",
   "metadata": {},
   "source": [
    "6) Write a Python program that takes the content of a dictionary and converts it into a list of lists.\n",
    "\n",
    "Each nested list should contain a key as the first element and its corresponding value as the second element.\n",
    "\n",
    "Print the final list of lists."
   ]
  },
  {
   "cell_type": "code",
   "execution_count": 169,
   "id": "cf8d0859",
   "metadata": {},
   "outputs": [
    {
     "name": "stdout",
     "output_type": "stream",
     "text": [
      "[['description', 'shoe'], ['price', 4.56], ['colors', ['green', 'blue', 'red']]]\n"
     ]
    }
   ],
   "source": [
    "product_info = {\n",
    "\"description\": \"shoe\",\n",
    "\"price\": 4.56,\n",
    "\"colors\": [\"green\", \"blue\", \"red\"],}\n",
    "lis_t =[]\n",
    "\n",
    "for key,val in product_info.items():\n",
    "    lis_t.append([key,val]) \n",
    "print(lis_t)    "
   ]
  },
  {
   "cell_type": "code",
   "execution_count": null,
   "id": "a6bec0b9",
   "metadata": {},
   "outputs": [],
   "source": []
  }
 ],
 "metadata": {
  "kernelspec": {
   "display_name": "Python 3 (ipykernel)",
   "language": "python",
   "name": "python3"
  },
  "language_info": {
   "codemirror_mode": {
    "name": "ipython",
    "version": 3
   },
   "file_extension": ".py",
   "mimetype": "text/x-python",
   "name": "python",
   "nbconvert_exporter": "python",
   "pygments_lexer": "ipython3",
   "version": "3.9.12"
  }
 },
 "nbformat": 4,
 "nbformat_minor": 5
}
